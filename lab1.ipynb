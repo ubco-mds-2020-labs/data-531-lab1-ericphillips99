{
 "cells": [
  {
   "cell_type": "markdown",
   "metadata": {},
   "source": [
    "# DATA 531 - Programming for Data Science\n",
    "# Lab 1: Python Functions, Lists, and Dictionaries"
   ]
  },
  {
   "cell_type": "markdown",
   "metadata": {},
   "source": [
    "****\n",
    "**Name**: FirstName LastName\n",
    "\n",
    "**Date**: September 8, 2020\n",
    "****"
   ]
  },
  {
   "cell_type": "markdown",
   "metadata": {},
   "source": [
    "## Objectives\n",
    "\n",
    "1. Create and call Python functions with parameters (including parameters with default values).\n",
    "2. Use of Python built-in functions including math functions and functions in random package.\n",
    "3. Mastery of list operations including traversing a list with a for loop, list indexing, and operations such as append.\n",
    "4. Experience with use of dictionaries as a key-value data store."
   ]
  },
  {
   "cell_type": "markdown",
   "metadata": {},
   "source": [
    "## Practice Questions (Not for marks)\n",
    "\n",
    "If you need or would like extra practice with Python, I have added some [practice exercises on the main website](https://firas.moosvi.com/courses/data531/practice/intro.html). These are optional, not for marks.\n",
    "\n",
    "The Python exercises are courtesy of [Jerry Pussinen from his “Learn Python 3” series](https://github.com/jerry-git/learn-python3.git) and are reproduced here with permission, and under a CC-BY-SA 4.0 license."
   ]
  },
  {
   "cell_type": "markdown",
   "metadata": {},
   "source": [
    "## Question #1 - Creating and Calling Functions (10 marks)\n",
    "\n",
    "Create a Python program that creates and calls a function for calculating the average of a list of values. Details:\n",
    "\n",
    "- Updater the header with your name and the date. (0.5 mark)\n",
    "- Create function with name ``avglist`` that accepts three parameters: (1 mark)\n",
    "    - ``lst`` - list of numbers\n",
    "    - ``low`` - miminum value (not inclusive). Default = 0\n",
    "    - ``high`` - maximum value (not inclusive). Default = 100\n",
    "- Function will calculate and return the average of all values in the range (``low``, ``high``). (3 marks)\n",
    "- Function should have a docstring as shown in output. (1 mark)\n",
    "- Call ``help(avglist)`` to display function information. (0.5 marks)\n",
    "- Create a list with the numbers 1 to 10 and call ``avglist()`` with default range and print result. (1 mark)\n",
    "- Create a list with the numbers 1 to 100 and call ``avglist()`` with range (``20``, ``80``) and print result. (1 mark)\n",
    "- Create a list with 100 random numbers between 1 and 100 and call avglist() with range (``30``, ``100``) and print the result. Note: Will need to ``import random`` and use ``random.randint(1,100)``. To set seed, use ``random.seed(0)``. (2 marks)"
   ]
  },
  {
   "cell_type": "markdown",
   "metadata": {},
   "source": [
    "### Sample Output\n",
    "\n",
    "    Help on function avglist in module __main__:\n",
    "\n",
    "    avglist(lst, low=0, high=100)\n",
    "    Returns average of a list of numbers in given range (low, high)\n",
    "    \n",
    "    Args:\n",
    "       lst: list of numbers\n",
    "       low: minimum value (not inclusive) Default: 0\n",
    "       high: maximum value (not inclusive) Default: 100\n",
    "       \n",
    "    Return:\n",
    "       Average of list of numbers\n",
    "\n",
    "    Average of list from 1 to 10 (default range): 5.5\n",
    "    Average of list from 1 to 100 range (20,80): 50.0\n",
    "    Average of random list of 100 numbers from 1 to 100 and range (30,100): 62.41095890410959"
   ]
  },
  {
   "cell_type": "markdown",
   "metadata": {},
   "source": [
    "### Solution\n",
    "\n",
    "\n",
    "\n"
   ]
  },
  {
   "cell_type": "code",
   "execution_count": 9,
   "metadata": {},
   "outputs": [],
   "source": [
    "### Your solution here\n",
    "\n"
   ]
  },
  {
   "cell_type": "markdown",
   "metadata": {},
   "source": [
    "## Question #2 - Using Lists (10 marks)\n",
    "\n",
    "Create a Python program that performs list operations based on user input. Details:\n",
    "\n",
    "- Create a list with the numbers ``2, 4, 6, 8, and 10``. (1 mark)\n",
    "- Using a while loop, prompt the user for an operation to perform until ``X`` for exit is selected. (1 mark)\n",
    "    - If operation is ``A``, prompt for a number and append that number to the list. (1 mark)\n",
    "    - If operation is ``P``, print the list. (1 mark)\n",
    "    - If operation is ``G``, prompt for an index and print the number at that index from the list. Make sure it is a valid index otherwise print ``Error invalid index``. (3 marks)\n",
    "    - If operation is ``D``, prompt for a number and delete that number from the list. (1 mark)\n",
    "    - If operation is ``R``,  prompt for two numbers ``startIdx`` and ``endIdx`` and return a range from the list ``[startIdx, endIdx]``. Make sure it is a valid range otherwise print ``Error invalid index``. (2 marks)    \n",
    "-  **Bonus:** If operation is ``S``, sort the list in ascending order. (1 mark) \n",
    "-  **Bonus:** Write a method that takes a list and index as a parameter and returns true if index is valid. (1 mark) "
   ]
  },
  {
   "cell_type": "markdown",
   "metadata": {},
   "source": [
    "### Sample Output\n",
    "\n",
    "    Enter an operation: P\n",
    "    [2, 4, 6, 8, 10]\n",
    "    Enter an operation: A\n",
    "    Enter number to add: 5\n",
    "    Enter an operation: P\n",
    "    [2, 4, 6, 8, 10, 5]\n",
    "    Enter an operation: D\n",
    "    Enter number to remove: 4\n",
    "    Enter an operation: P\n",
    "    [2, 6, 8, 10, 5]\n",
    "    Enter an operation: G\n",
    "    Enter index to get: 3\n",
    "    Number at index 3 is 10\n",
    "    Enter an operation: G\n",
    "    Enter index to get: 5\n",
    "    Error invalid index\n",
    "    Enter an operation: R\n",
    "    Enter start index: 2\n",
    "    Enter end index: 4\n",
    "    List range: [8, 10]\n",
    "    Enter an operation: R\n",
    "    Enter start index: 0\n",
    "    Enter end index: 5\n",
    "    Error invalid index\n",
    "    Enter an operation: S\n",
    "    Enter an operation: P\n",
    "    [2, 5, 6, 8, 10]\n",
    "    Enter an operation: X\n",
    "   "
   ]
  },
  {
   "cell_type": "markdown",
   "metadata": {},
   "source": [
    "### Solution"
   ]
  },
  {
   "cell_type": "code",
   "execution_count": 10,
   "metadata": {},
   "outputs": [],
   "source": [
    "### Your solution here\n",
    "\n",
    "\n",
    "\n"
   ]
  },
  {
   "cell_type": "markdown",
   "metadata": {},
   "source": [
    "## Question #3 - Letter Frequency Analysis using Dictionaries (5 marks)\n",
    "\n",
    "Create a Python program that takes a string text and calculates the frequency of each letter and punctuation. Data set (copy as string into Python code):\n",
    "\n",
    "    text = \"\"\"She should have died hereafter.\n",
    "    There would have been a time for such a word.\n",
    "    Tomorrow, and tomorrow, and tomorrow,\n",
    "    Creeps in this petty pace from day to day\n",
    "    To the last syllable of recorded time,\n",
    "    And all our yesterdays have lighted fools\n",
    "    The way to dusty death. Out, out, brief candle!\n",
    "    Life's but a walking shadow, a poor player\n",
    "    That struts and frets his hour upon the stage\n",
    "    And then is heard no more. It is a tale\n",
    "    Told by an idiot, full of sound and fury,\n",
    "    Signifying nothing.\"\"\" # Macbeth: Act 5, Scene 5, Page 2\n",
    "\n",
    "Details:\n",
    "- Copy data set above into Python code. (0.5 mark)\n",
    "- Create an empty dictionary to store letter counts.  Upper and lower case letters should be counted together as upper case (e.g. 'A' and 'a'). Punction '.' and '!' and spaces (' ')  have their own entries. All other characters counted as '#' (for other). (0.5 mark)\n",
    "    - Note that upper case letters are in ASCII table from 65 to 91 and lower case from 97 to 123. [ASCII Table](https://ascii.cl/) [Helpful info](https://terrameijar.wordpress.com/2017/02/03/python-how-to-generate-a-list-of-letters-in-the-alphabet/)\n",
    "    - Note: the [ord() function](https://docs.python.org/3.4/library/functions.html?highlight=ord#ord) may be useful.\n",
    "- Use a for loop to process each letter in the text: (1 mark)\n",
    "    - Use dictionary to update letter counts. Note: Will need to search dictionary to see if letter exists. If not, then add it otherwise add one to count. (2 marks)\n",
    "- Output the total number of characters and for each character its count and frequency. (1 marks)   \n",
    "-  **Bonus 1:** [Read text data from file](https://docs.python.org/3/tutorial/inputoutput.html#reading-and-writing-files) [``data.txt``](data.txt) instead of putting it in code. (1 mark)\n",
    "-  **Bonus 2:** Sort output alphabetically. *Hint: [use the sorted()](https://docs.python.org/3/howto/sorting.html) function*. (1 mark)"
   ]
  },
  {
   "cell_type": "markdown",
   "metadata": {},
   "source": [
    "### Sample Output\n",
    "\n",
    "    Total characters: 477\n",
    "    S 22 4.612159329140461\n",
    "    H 21 4.40251572327044\n",
    "    E 38 7.966457023060797\n",
    "      78 16.352201257861637\n",
    "    O 36 7.547169811320755\n",
    "    U 14 2.9350104821802936\n",
    "    L 18 3.7735849056603774\n",
    "    D 25 5.241090146750524\n",
    "    A 33 6.918238993710692\n",
    "    V 3 0.6289308176100629\n",
    "    I 19 3.9832285115303985\n",
    "    R 26 5.450733752620545\n",
    "    F 12 2.5157232704402515\n",
    "    T 36 7.547169811320755\n",
    "    . 5 1.0482180293501049\n",
    "    # 21 4.40251572327044\n",
    "    W 8 1.6771488469601676\n",
    "    B 5 1.0482180293501049\n",
    "    N 19 3.9832285115303985\n",
    "    M 7 1.4675052410901468\n",
    "    C 5 1.0482180293501049\n",
    "    P 6 1.2578616352201257\n",
    "    Y 12 2.5157232704402515\n",
    "    G 6 1.2578616352201257\n",
    "    ! 1 0.20964360587002095\n",
    "    K 1 0.20964360587002095\n",
    "\n",
    "    Bonus:\n",
    "      78 \t16%\n",
    "    ! 1 \t0%\n",
    "    # 21 \t4%\n",
    "    . 5 \t1%\n",
    "    A 33 \t7%\n",
    "    B 5 \t1%\n",
    "    C 5 \t1%\n",
    "    D 25 \t5%\n",
    "    E 38 \t8%\n",
    "    F 12 \t3%\n",
    "    G 6 \t1%\n",
    "    H 21 \t4%\n",
    "    I 19 \t4%\n",
    "    K 1 \t0%\n",
    "    L 18 \t4%\n",
    "    M 7 \t1%\n",
    "    N 19 \t4%\n",
    "    O 36 \t8%\n",
    "    P 6 \t1%\n",
    "    R 26 \t5%\n",
    "    S 22 \t5%\n",
    "    T 36 \t8%\n",
    "    U 14 \t3%\n",
    "    V 3 \t1%\n",
    "    W 8 \t2%\n",
    "    Y 12 \t3%"
   ]
  },
  {
   "cell_type": "markdown",
   "metadata": {},
   "source": [
    "### Solution"
   ]
  },
  {
   "cell_type": "code",
   "execution_count": 11,
   "metadata": {},
   "outputs": [],
   "source": [
    "### Your solution here\n",
    "\n",
    "\n",
    "\n"
   ]
  }
 ],
 "metadata": {
  "kernelspec": {
   "display_name": "Python 3",
   "language": "python",
   "name": "python3"
  },
  "language_info": {
   "codemirror_mode": {
    "name": "ipython",
    "version": 3
   },
   "file_extension": ".py",
   "mimetype": "text/x-python",
   "name": "python",
   "nbconvert_exporter": "python",
   "pygments_lexer": "ipython3",
   "version": "3.8.3"
  }
 },
 "nbformat": 4,
 "nbformat_minor": 4
}
